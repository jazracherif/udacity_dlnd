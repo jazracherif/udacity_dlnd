{
 "cells": [
  {
   "cell_type": "markdown",
   "metadata": {
    "collapsed": true,
    "deletable": true,
    "editable": true
   },
   "source": [
    "# Language Translation\n",
    "In this project, you’re going to take a peek into the realm of neural network machine translation.  You’ll be training a sequence to sequence model on a dataset of English and French sentences that can translate new sentences from English to French.\n",
    "## Get the Data\n",
    "Since translating the whole language of English to French will take lots of time to train, we have provided you with a small portion of the English corpus."
   ]
  },
  {
   "cell_type": "code",
   "execution_count": 27,
   "metadata": {
    "collapsed": true,
    "deletable": true,
    "editable": true
   },
   "outputs": [],
   "source": [
    "\"\"\"\n",
    "DON'T MODIFY ANYTHING IN THIS CELL\n",
    "\"\"\"\n",
    "import helper\n",
    "import problem_unittests as tests\n",
    "\n",
    "source_path = 'data/small_vocab_en'\n",
    "target_path = 'data/small_vocab_fr'\n",
    "source_text = helper.load_data(source_path)\n",
    "target_text = helper.load_data(target_path)"
   ]
  },
  {
   "cell_type": "markdown",
   "metadata": {
    "deletable": true,
    "editable": true
   },
   "source": [
    "## Explore the Data\n",
    "Play around with view_sentence_range to view different parts of the data."
   ]
  },
  {
   "cell_type": "code",
   "execution_count": 28,
   "metadata": {
    "collapsed": false,
    "deletable": true,
    "editable": true
   },
   "outputs": [
    {
     "name": "stdout",
     "output_type": "stream",
     "text": [
      "Dataset Stats\n",
      "Roughly the number of unique words: 227\n",
      "Number of sentences: 137861\n",
      "Average number of words in a sentence: 13.225277634719028\n",
      "\n",
      "English sentences 0 to 10:\n",
      "new jersey is sometimes quiet during autumn , and it is snowy in april .\n",
      "the united states is usually chilly during july , and it is usually freezing in november .\n",
      "california is usually quiet during march , and it is usually hot in june .\n",
      "the united states is sometimes mild during june , and it is cold in september .\n",
      "your least liked fruit is the grape , but my least liked is the apple .\n",
      "his favorite fruit is the orange , but my favorite is the grape .\n",
      "paris is relaxing during december , but it is usually chilly in july .\n",
      "new jersey is busy during spring , and it is never hot in march .\n",
      "our least liked fruit is the lemon , but my least liked is the grape .\n",
      "the united states is sometimes busy during january , and it is sometimes warm in november .\n",
      "\n",
      "French sentences 0 to 10:\n",
      "new jersey est parfois calme pendant l' automne , et il est neigeux en avril .\n",
      "les états-unis est généralement froid en juillet , et il gèle habituellement en novembre .\n",
      "california est généralement calme en mars , et il est généralement chaud en juin .\n",
      "les états-unis est parfois légère en juin , et il fait froid en septembre .\n",
      "votre moins aimé fruit est le raisin , mais mon moins aimé est la pomme .\n",
      "son fruit préféré est l'orange , mais mon préféré est le raisin .\n",
      "paris est relaxant en décembre , mais il est généralement froid en juillet .\n",
      "new jersey est occupé au printemps , et il est jamais chaude en mars .\n",
      "notre fruit est moins aimé le citron , mais mon moins aimé est le raisin .\n",
      "les états-unis est parfois occupé en janvier , et il est parfois chaud en novembre .\n"
     ]
    }
   ],
   "source": [
    "view_sentence_range = (0, 10)\n",
    "\n",
    "\"\"\"\n",
    "DON'T MODIFY ANYTHING IN THIS CELL\n",
    "\"\"\"\n",
    "import numpy as np\n",
    "\n",
    "print('Dataset Stats')\n",
    "print('Roughly the number of unique words: {}'.format(len({word: None for word in source_text.split()})))\n",
    "\n",
    "sentences = source_text.split('\\n')\n",
    "word_counts = [len(sentence.split()) for sentence in sentences]\n",
    "print('Number of sentences: {}'.format(len(sentences)))\n",
    "print('Average number of words in a sentence: {}'.format(np.average(word_counts)))\n",
    "\n",
    "print()\n",
    "print('English sentences {} to {}:'.format(*view_sentence_range))\n",
    "print('\\n'.join(source_text.split('\\n')[view_sentence_range[0]:view_sentence_range[1]]))\n",
    "print()\n",
    "print('French sentences {} to {}:'.format(*view_sentence_range))\n",
    "print('\\n'.join(target_text.split('\\n')[view_sentence_range[0]:view_sentence_range[1]]))"
   ]
  },
  {
   "cell_type": "markdown",
   "metadata": {
    "deletable": true,
    "editable": true
   },
   "source": [
    "## Implement Preprocessing Function\n",
    "### Text to Word Ids\n",
    "As you did with other RNNs, you must turn the text into a number so the computer can understand it. In the function `text_to_ids()`, you'll turn `source_text` and `target_text` from words to ids.  However, you need to add the `<EOS>` word id at the end of `target_text`.  This will help the neural network predict when the sentence should end.\n",
    "\n",
    "You can get the `<EOS>` word id by doing:\n",
    "```python\n",
    "target_vocab_to_int['<EOS>']\n",
    "```\n",
    "You can get other word ids using `source_vocab_to_int` and `target_vocab_to_int`."
   ]
  },
  {
   "cell_type": "code",
   "execution_count": 29,
   "metadata": {
    "collapsed": false,
    "deletable": true,
    "editable": true
   },
   "outputs": [
    {
     "name": "stdout",
     "output_type": "stream",
     "text": [
      "Tests Passed\n"
     ]
    }
   ],
   "source": [
    "def text_to_ids(source_text, target_text, source_vocab_to_int, target_vocab_to_int):\n",
    "    \"\"\"\n",
    "    Convert source and target text to proper word ids\n",
    "    :param source_text: String that contains all the source text.\n",
    "    :param target_text: String that contains all the target text.\n",
    "    :param source_vocab_to_int: Dictionary to go from the source words to an id\n",
    "    :param target_vocab_to_int: Dictionary to go from the target words to an id\n",
    "    :return: A tuple of lists (source_id_text, target_id_text)\n",
    "    \"\"\"\n",
    "    # TODO: Implement Function\n",
    "    source_id_text = []\n",
    "    target_id_text = []\n",
    "    \n",
    "    src_sentences = source_text.split(\"\\n\")\n",
    "    target_sentences = target_text.split(\"\\n\")\n",
    "\n",
    "    for src, targed in zip(src_sentences, target_sentences):\n",
    "        src_words = src.split()           \n",
    "        out_sent = [source_vocab_to_int[w] for w in src_words]\n",
    "        source_id_text.append(out_sent)\n",
    "        \n",
    "        target_words = targed.split()\n",
    "        target_words.append('<EOS>')        \n",
    "        out_sent = [target_vocab_to_int[w] for w in target_words]\n",
    "        target_id_text.append(out_sent)\n",
    "        \n",
    "    return source_id_text, target_id_text\n",
    "\n",
    "\"\"\"\n",
    "DON'T MODIFY ANYTHING IN THIS CELL THAT IS BELOW THIS LINE\n",
    "\"\"\"\n",
    "tests.test_text_to_ids(text_to_ids)"
   ]
  },
  {
   "cell_type": "markdown",
   "metadata": {
    "deletable": true,
    "editable": true
   },
   "source": [
    "### Preprocess all the data and save it\n",
    "Running the code cell below will preprocess all the data and save it to file."
   ]
  },
  {
   "cell_type": "code",
   "execution_count": 30,
   "metadata": {
    "collapsed": true,
    "deletable": true,
    "editable": true
   },
   "outputs": [],
   "source": [
    "\"\"\"\n",
    "DON'T MODIFY ANYTHING IN THIS CELL\n",
    "\"\"\"\n",
    "helper.preprocess_and_save_data(source_path, target_path, text_to_ids)"
   ]
  },
  {
   "cell_type": "markdown",
   "metadata": {
    "deletable": true,
    "editable": true
   },
   "source": [
    "# Check Point\n",
    "This is your first checkpoint. If you ever decide to come back to this notebook or have to restart the notebook, you can start from here. The preprocessed data has been saved to disk."
   ]
  },
  {
   "cell_type": "code",
   "execution_count": 31,
   "metadata": {
    "collapsed": true,
    "deletable": true,
    "editable": true
   },
   "outputs": [],
   "source": [
    "\"\"\"\n",
    "DON'T MODIFY ANYTHING IN THIS CELL\n",
    "\"\"\"\n",
    "import numpy as np\n",
    "import helper\n",
    "\n",
    "(source_int_text, target_int_text), (source_vocab_to_int, target_vocab_to_int), _ = helper.load_preprocess()"
   ]
  },
  {
   "cell_type": "markdown",
   "metadata": {
    "deletable": true,
    "editable": true
   },
   "source": [
    "### Check the Version of TensorFlow and Access to GPU\n",
    "This will check to make sure you have the correct version of TensorFlow and access to a GPU"
   ]
  },
  {
   "cell_type": "code",
   "execution_count": 32,
   "metadata": {
    "collapsed": false,
    "deletable": true,
    "editable": true
   },
   "outputs": [
    {
     "name": "stdout",
     "output_type": "stream",
     "text": [
      "TensorFlow Version: 1.1.0\n",
      "Default GPU Device: /gpu:0\n"
     ]
    }
   ],
   "source": [
    "\"\"\"\n",
    "DON'T MODIFY ANYTHING IN THIS CELL\n",
    "\"\"\"\n",
    "from distutils.version import LooseVersion\n",
    "import warnings\n",
    "import tensorflow as tf\n",
    "from tensorflow.python.layers.core import Dense\n",
    "\n",
    "# Check TensorFlow Version\n",
    "assert LooseVersion(tf.__version__) >= LooseVersion('1.1'), 'Please use TensorFlow version 1.1 or newer'\n",
    "print('TensorFlow Version: {}'.format(tf.__version__))\n",
    "\n",
    "# Check for a GPU\n",
    "if not tf.test.gpu_device_name():\n",
    "    warnings.warn('No GPU found. Please use a GPU to train your neural network.')\n",
    "else:\n",
    "    print('Default GPU Device: {}'.format(tf.test.gpu_device_name()))\n",
    "    "
   ]
  },
  {
   "cell_type": "markdown",
   "metadata": {
    "deletable": true,
    "editable": true
   },
   "source": [
    "## Build the Neural Network\n",
    "You'll build the components necessary to build a Sequence-to-Sequence model by implementing the following functions below:\n",
    "- `model_inputs`\n",
    "- `process_decoder_input`\n",
    "- `encoding_layer`\n",
    "- `decoding_layer_train`\n",
    "- `decoding_layer_infer`\n",
    "- `decoding_layer`\n",
    "- `seq2seq_model`\n",
    "\n",
    "### Input\n",
    "Implement the `model_inputs()` function to create TF Placeholders for the Neural Network. It should create the following placeholders:\n",
    "\n",
    "- Input text placeholder named \"input\" using the TF Placeholder name parameter with rank 2.\n",
    "- Targets placeholder with rank 2.\n",
    "- Learning rate placeholder with rank 0.\n",
    "- Keep probability placeholder named \"keep_prob\" using the TF Placeholder name parameter with rank 0.\n",
    "- Target sequence length placeholder named \"target_sequence_length\" with rank 1\n",
    "- Max target sequence length tensor named \"max_target_len\" getting its value from applying tf.reduce_max on the target_sequence_length placeholder. Rank 0.\n",
    "- Source sequence length placeholder named \"source_sequence_length\" with rank 1\n",
    "\n",
    "Return the placeholders in the following the tuple (input, targets, learning rate, keep probability, target sequence length, max target sequence length, source sequence length)"
   ]
  },
  {
   "cell_type": "code",
   "execution_count": 33,
   "metadata": {
    "collapsed": false,
    "deletable": true,
    "editable": true
   },
   "outputs": [
    {
     "name": "stdout",
     "output_type": "stream",
     "text": [
      "Tests Passed\n"
     ]
    }
   ],
   "source": [
    "def model_inputs():\n",
    "    \"\"\"\n",
    "    Create TF Placeholders for input, targets, learning rate, and lengths of source and target sequences.\n",
    "    :return: Tuple (input, targets, learning rate, keep probability, target sequence length,\n",
    "    max target sequence length, source sequence length)\n",
    "    \"\"\"\n",
    "    # TODO: Implement Function\n",
    "    input_tensor = tf.placeholder(dtype=tf.int32, shape=(None, None), name=\"input\")\n",
    "    target_tensor = tf.placeholder(dtype=tf.int32, shape=(None,None), name=\"targets\")\n",
    "    lr      = tf.placeholder(dtype=tf.float32, name=\"lr\")\n",
    "    keep_prob = tf.placeholder(dtype=tf.float32, name=\"keep_prob\")\n",
    "    target_seq_len = tf.placeholder(dtype=tf.int32, shape=(None,), name=\"target_sequence_length\")    \n",
    "    max_target_len = tf.reduce_max(target_seq_len, name=\"max_target_len\")\n",
    "    source_seq_len = tf.placeholder(dtype=tf.int32, shape=(None,), name=\"source_sequence_length\")\n",
    "    \n",
    "    return (input_tensor, target_tensor, lr , keep_prob, target_seq_len, max_target_len, source_seq_len)\n",
    "\n",
    "\n",
    "\"\"\"\n",
    "DON'T MODIFY ANYTHING IN THIS CELL THAT IS BELOW THIS LINE\n",
    "\"\"\"\n",
    "tests.test_model_inputs(model_inputs)"
   ]
  },
  {
   "cell_type": "markdown",
   "metadata": {
    "deletable": true,
    "editable": true
   },
   "source": [
    "### Process Decoder Input\n",
    "Implement `process_decoder_input` by removing the last word id from each batch in `target_data` and concat the GO ID to the begining of each batch."
   ]
  },
  {
   "cell_type": "code",
   "execution_count": 34,
   "metadata": {
    "collapsed": false,
    "deletable": true,
    "editable": true
   },
   "outputs": [
    {
     "name": "stdout",
     "output_type": "stream",
     "text": [
      "Tests Passed\n"
     ]
    }
   ],
   "source": [
    "def process_decoder_input(target_data, target_vocab_to_int, batch_size):\n",
    "    \"\"\"\n",
    "    Preprocess target data for encoding\n",
    "    :param target_data: Target Placehoder\n",
    "    :param target_vocab_to_int: Dictionary to go from the target words to an id\n",
    "    :param batch_size: Batch Size\n",
    "    :return: Preprocessed target data\n",
    "    \"\"\"\n",
    "    # TODO: Implement Function\n",
    "    target_data_trim = tf.strided_slice(target_data, [0,0], [batch_size, -1], [1,1])\n",
    "    \n",
    "    target_data_out = tf.concat([tf.fill([batch_size, 1], target_vocab_to_int[\"<GO>\"]),  target_data_trim],1)\n",
    "    return target_data_out\n",
    "\n",
    "\"\"\"\n",
    "DON'T MODIFY ANYTHING IN THIS CELL THAT IS BELOW THIS LINE\n",
    "\"\"\"\n",
    "tests.test_process_encoding_input(process_decoder_input)"
   ]
  },
  {
   "cell_type": "markdown",
   "metadata": {
    "deletable": true,
    "editable": true
   },
   "source": [
    "### Encoding\n",
    "Implement `encoding_layer()` to create a Encoder RNN layer:\n",
    " * Embed the encoder input using [`tf.contrib.layers.embed_sequence`](https://www.tensorflow.org/api_docs/python/tf/contrib/layers/embed_sequence)\n",
    " * Construct a [stacked](https://github.com/tensorflow/tensorflow/blob/6947f65a374ebf29e74bb71e36fd82760056d82c/tensorflow/docs_src/tutorials/recurrent.md#stacking-multiple-lstms) [`tf.contrib.rnn.LSTMCell`](https://www.tensorflow.org/api_docs/python/tf/contrib/rnn/LSTMCell) wrapped in a [`tf.contrib.rnn.DropoutWrapper`](https://www.tensorflow.org/api_docs/python/tf/contrib/rnn/DropoutWrapper)\n",
    " * Pass cell and embedded input to [`tf.nn.dynamic_rnn()`](https://www.tensorflow.org/api_docs/python/tf/nn/dynamic_rnn)"
   ]
  },
  {
   "cell_type": "code",
   "execution_count": 35,
   "metadata": {
    "collapsed": false,
    "deletable": true,
    "editable": true,
    "scrolled": false
   },
   "outputs": [
    {
     "name": "stdout",
     "output_type": "stream",
     "text": [
      "Tests Passed\n"
     ]
    }
   ],
   "source": [
    "from imp import reload\n",
    "reload(tests)\n",
    "\n",
    "def encoding_layer(rnn_inputs, rnn_size, num_layers, keep_prob, \n",
    "                   source_sequence_length, source_vocab_size, \n",
    "                   encoding_embedding_size):\n",
    "    \"\"\"\n",
    "    Create encoding layer\n",
    "    :param rnn_inputs: Inputs for the RNN\n",
    "    :param rnn_size: RNN Size\n",
    "    :param num_layers: Number of layers\n",
    "    :param keep_prob: Dropout keep probability\n",
    "    :param source_sequence_length: a list of the lengths of each sequence in the batch\n",
    "    :param source_vocab_size: vocabulary size of source data\n",
    "    :param encoding_embedding_size: embedding size of source data\n",
    "    :return: tuple (RNN output, RNN state)\n",
    "    \"\"\"\n",
    "    # TODO: Implement Function\n",
    "    \n",
    "    enc_input = tf.contrib.layers.embed_sequence(rnn_inputs, source_vocab_size, encoding_embedding_size)\n",
    "    \n",
    "    def make_cell():\n",
    "        cell =  tf.contrib.rnn.LSTMCell(rnn_size,\n",
    "                                       initializer=tf.random_uniform_initializer(-0.01, 0.01, seed=2)) \n",
    "        return tf.contrib.rnn.DropoutWrapper(cell, keep_prob)\n",
    "    \n",
    "    stacked = tf.contrib.rnn.MultiRNNCell([make_cell() for _ in range(num_layers)])\n",
    "    \n",
    "    output, state = tf.nn.dynamic_rnn(stacked, enc_input, source_sequence_length, dtype=tf.float32)\n",
    "    \n",
    "    return output, state\n",
    "\n",
    "\"\"\"\n",
    "DON'T MODIFY ANYTHING IN THIS CELL THAT IS BELOW THIS LINE\n",
    "\"\"\"\n",
    "tests.test_encoding_layer(encoding_layer)"
   ]
  },
  {
   "cell_type": "markdown",
   "metadata": {
    "deletable": true,
    "editable": true
   },
   "source": [
    "### Decoding - Training\n",
    "Create a training decoding layer:\n",
    "* Create a [`tf.contrib.seq2seq.TrainingHelper`](https://www.tensorflow.org/api_docs/python/tf/contrib/seq2seq/TrainingHelper) \n",
    "* Create a [`tf.contrib.seq2seq.BasicDecoder`](https://www.tensorflow.org/api_docs/python/tf/contrib/seq2seq/BasicDecoder)\n",
    "* Obtain the decoder outputs from [`tf.contrib.seq2seq.dynamic_decode`](https://www.tensorflow.org/api_docs/python/tf/contrib/seq2seq/dynamic_decode)"
   ]
  },
  {
   "cell_type": "code",
   "execution_count": 36,
   "metadata": {
    "collapsed": false,
    "deletable": true,
    "editable": true
   },
   "outputs": [
    {
     "name": "stdout",
     "output_type": "stream",
     "text": [
      "target_sequence_length Tensor(\"decoding/target_sequence_length:0\", shape=(?,), dtype=int32)\n",
      "Tests Passed\n"
     ]
    }
   ],
   "source": [
    "\n",
    "def decoding_layer_train(encoder_state, dec_cell, dec_embed_input, \n",
    "                         target_sequence_length, max_summary_length, \n",
    "                         output_layer, keep_prob):\n",
    "    \"\"\"\n",
    "    Create a decoding layer for training\n",
    "    :param encoder_state: Encoder State\n",
    "    :param dec_cell: Decoder RNN Cell\n",
    "    :param dec_embed_input: Decoder embedded input\n",
    "    :param target_sequence_length: The lengths of each sequence in the target batch\n",
    "    :param max_summary_length: The length of the longest sequence in the batch\n",
    "    :param output_layer: Function to apply the output layer\n",
    "    :param keep_prob: Dropout keep probability\n",
    "    :return: BasicDecoderOutput containing training logits and sample_id\n",
    "    \"\"\"\n",
    "    # TODO: Implement Function\n",
    "    print (\"target_sequence_length\", target_sequence_length)\n",
    "    training_helper = tf.contrib.seq2seq.TrainingHelper(dec_embed_input, \n",
    "                                                        target_sequence_length,\n",
    "                                                       time_major=False)\n",
    "    \n",
    "    basic_decoder = tf.contrib.seq2seq.BasicDecoder(dec_cell, \n",
    "                                                    training_helper,\n",
    "                                                    encoder_state, \n",
    "                                                    output_layer)\n",
    "    \n",
    "    final_outputs, final_state =  tf.contrib.seq2seq.dynamic_decode(basic_decoder, \n",
    "                                                impute_finished=True, \n",
    "                                                maximum_iterations=max_summary_length)\n",
    "    \n",
    "    return final_outputs\n",
    "\n",
    "\n",
    "\n",
    "\"\"\"\n",
    "DON'T MODIFY ANYTHING IN THIS CELL THAT IS BELOW THIS LINE\n",
    "\"\"\"\n",
    "tests.test_decoding_layer_train(decoding_layer_train)"
   ]
  },
  {
   "cell_type": "markdown",
   "metadata": {
    "deletable": true,
    "editable": true
   },
   "source": [
    "### Decoding - Inference\n",
    "Create inference decoder:\n",
    "* Create a [`tf.contrib.seq2seq.GreedyEmbeddingHelper`](https://www.tensorflow.org/api_docs/python/tf/contrib/seq2seq/GreedyEmbeddingHelper)\n",
    "* Create a [`tf.contrib.seq2seq.BasicDecoder`](https://www.tensorflow.org/api_docs/python/tf/contrib/seq2seq/BasicDecoder)\n",
    "* Obtain the decoder outputs from [`tf.contrib.seq2seq.dynamic_decode`](https://www.tensorflow.org/api_docs/python/tf/contrib/seq2seq/dynamic_decode)"
   ]
  },
  {
   "cell_type": "code",
   "execution_count": 37,
   "metadata": {
    "collapsed": false,
    "deletable": true,
    "editable": true,
    "scrolled": true
   },
   "outputs": [
    {
     "name": "stdout",
     "output_type": "stream",
     "text": [
      "Tests Passed\n"
     ]
    }
   ],
   "source": [
    "def decoding_layer_infer(encoder_state, dec_cell, dec_embeddings, start_of_sequence_id,\n",
    "                         end_of_sequence_id, max_target_sequence_length,\n",
    "                         vocab_size, output_layer, batch_size, keep_prob):\n",
    "    \"\"\"\n",
    "    Create a decoding layer for inference\n",
    "    :param encoder_state: Encoder state\n",
    "    :param dec_cell: Decoder RNN Cell\n",
    "    :param dec_embeddings: Decoder embeddings\n",
    "    :param start_of_sequence_id: GO ID\n",
    "    :param end_of_sequence_id: EOS Id\n",
    "    :param max_target_sequence_length: Maximum length of target sequences\n",
    "    :param vocab_size: Size of decoder/target vocabulary\n",
    "    :param decoding_scope: TenorFlow Variable Scope for decoding\n",
    "    :param output_layer: Function to apply the output layer\n",
    "    :param batch_size: Batch size\n",
    "    :param keep_prob: Dropout keep probability\n",
    "    :return: BasicDecoderOutput containing inference logits and sample_id\n",
    "    \"\"\"\n",
    "    # TODO: Implement Function\n",
    "    \n",
    "    start_tokens = tf.tile(tf.constant([start_of_sequence_id], dtype=tf.int32), [batch_size], name='start_tokens')\n",
    "    \n",
    "    inference_helper = tf.contrib.seq2seq.GreedyEmbeddingHelper(dec_embeddings, \n",
    "                                                        start_tokens,\n",
    "                                                        end_of_sequence_id)\n",
    "    \n",
    "    inference_basic_decoder = tf.contrib.seq2seq.BasicDecoder(dec_cell, \n",
    "                                                    inference_helper,\n",
    "                                                    encoder_state, \n",
    "                                                    output_layer)\n",
    "    \n",
    "    inference_outputs, inference_state =  tf.contrib.seq2seq.dynamic_decode(inference_basic_decoder, \n",
    "                                                impute_finished=True, \n",
    "                                                maximum_iterations=max_target_sequence_length)\n",
    "    \n",
    "    return inference_outputs\n",
    "\n",
    "\n",
    "\n",
    "\"\"\"\n",
    "DON'T MODIFY ANYTHING IN THIS CELL THAT IS BELOW THIS LINE\n",
    "\"\"\"\n",
    "tests.test_decoding_layer_infer(decoding_layer_infer)"
   ]
  },
  {
   "cell_type": "markdown",
   "metadata": {
    "deletable": true,
    "editable": true
   },
   "source": [
    "### Build the Decoding Layer\n",
    "Implement `decoding_layer()` to create a Decoder RNN layer.\n",
    "\n",
    "* Embed the target sequences\n",
    "* Construct the decoder LSTM cell (just like you constructed the encoder cell above)\n",
    "* Create an output layer to map the outputs of the decoder to the elements of our vocabulary\n",
    "* Use the your `decoding_layer_train(encoder_state, dec_cell, dec_embed_input, target_sequence_length, max_target_sequence_length, output_layer, keep_prob)` function to get the training logits.\n",
    "* Use your `decoding_layer_infer(encoder_state, dec_cell, dec_embeddings, start_of_sequence_id, end_of_sequence_id, max_target_sequence_length, vocab_size, output_layer, batch_size, keep_prob)` function to get the inference logits.\n",
    "\n",
    "Note: You'll need to use [tf.variable_scope](https://www.tensorflow.org/api_docs/python/tf/variable_scope) to share variables between training and inference."
   ]
  },
  {
   "cell_type": "code",
   "execution_count": 38,
   "metadata": {
    "collapsed": false,
    "deletable": true,
    "editable": true
   },
   "outputs": [
    {
     "name": "stdout",
     "output_type": "stream",
     "text": [
      "target_sequence_length Tensor(\"target_sequence_length:0\", shape=(?,), dtype=int32)\n",
      "Tests Passed\n"
     ]
    }
   ],
   "source": [
    "def decoding_layer(dec_input, encoder_state,\n",
    "                   target_sequence_length, max_target_sequence_length,\n",
    "                   rnn_size,\n",
    "                   num_layers, target_vocab_to_int, target_vocab_size,\n",
    "                   batch_size, keep_prob, decoding_embedding_size):\n",
    "    \"\"\"\n",
    "    Create decoding layer\n",
    "    :param dec_input: Decoder input\n",
    "    :param encoder_state: Encoder state\n",
    "    :param target_sequence_length: The lengths of each sequence in the target batch\n",
    "    :param max_target_sequence_length: Maximum length of target sequences\n",
    "    :param rnn_size: RNN Size\n",
    "    :param num_layers: Number of layers\n",
    "    :param target_vocab_to_int: Dictionary to go from the target words to an id\n",
    "    :param target_vocab_size: Size of target vocabulary\n",
    "    :param batch_size: The size of the batch\n",
    "    :param keep_prob: Dropout keep probability\n",
    "    :return: Tuple of (Training BasicDecoderOutput, Inference BasicDecoderOutput)\n",
    "    \"\"\"\n",
    "    # TODO: Implement Function\n",
    "    \n",
    "    #dec_embed_input = tf.contrib.layers.embed_sequence(dec_input, target_vocab_size, decoding_embedding_size)\n",
    "    dec_embeddings = tf.Variable(tf.random_uniform([target_vocab_size, decoding_embedding_size]))\n",
    "    dec_embed_input = tf.nn.embedding_lookup(dec_embeddings, dec_input)\n",
    "        \n",
    "    def make_cell():\n",
    "        cell =  tf.contrib.rnn.LSTMCell(rnn_size,\n",
    "                                       initializer=tf.random_uniform_initializer(-0.01, 0.01, seed=2)) \n",
    "        return tf.contrib.rnn.DropoutWrapper(cell, keep_prob)\n",
    "    \n",
    "    target_output = tf.contrib.rnn.MultiRNNCell([make_cell() for _ in range(num_layers)])    \n",
    "\n",
    "    output_layer = Dense(target_vocab_size,\n",
    "                         kernel_initializer = tf.truncated_normal_initializer(mean = 0.0, stddev=0.01))\n",
    "\n",
    "\n",
    "    with tf.variable_scope(\"decoding\"):\n",
    "        train_decoder = decoding_layer_train(encoder_state,\n",
    "                                     target_output, \n",
    "                                     dec_embed_input, \n",
    "                                     target_sequence_length, \n",
    "                                     max_target_sequence_length, \n",
    "                                     output_layer, \n",
    "                                     keep_prob)\n",
    "        \n",
    "    with tf.variable_scope(\"decoding\", reuse=True):\n",
    "        infer_decoder = decoding_layer_infer(encoder_state, \n",
    "                                     target_output, \n",
    "                                     dec_embeddings, \n",
    "                                     target_vocab_to_int[\"<GO>\"],\n",
    "                                     target_vocab_to_int[\"<EOS>\"], \n",
    "                                     max_target_sequence_length,\n",
    "                                     target_vocab_size, \n",
    "                                     output_layer, \n",
    "                                     batch_size, \n",
    "                                     keep_prob)\n",
    "\n",
    "\n",
    "    return train_decoder, infer_decoder\n",
    "\n",
    "\n",
    "\n",
    "\"\"\"\n",
    "DON'T MODIFY ANYTHING IN THIS CELL THAT IS BELOW THIS LINE\n",
    "\"\"\"\n",
    "tests.test_decoding_layer(decoding_layer)"
   ]
  },
  {
   "cell_type": "markdown",
   "metadata": {
    "deletable": true,
    "editable": true
   },
   "source": [
    "### Build the Neural Network\n",
    "Apply the functions you implemented above to:\n",
    "\n",
    "- Apply embedding to the input data for the encoder.\n",
    "- Encode the input using your `encoding_layer(rnn_inputs, rnn_size, num_layers, keep_prob,  source_sequence_length, source_vocab_size, encoding_embedding_size)`.\n",
    "- Process target data using your `process_decoder_input(target_data, target_vocab_to_int, batch_size)` function.\n",
    "- Apply embedding to the target data for the decoder.\n",
    "- Decode the encoded input using your `decoding_layer(dec_input, enc_state, target_sequence_length, max_target_sentence_length, rnn_size, num_layers, target_vocab_to_int, target_vocab_size, batch_size, keep_prob, dec_embedding_size)` function."
   ]
  },
  {
   "cell_type": "code",
   "execution_count": 39,
   "metadata": {
    "collapsed": false,
    "deletable": true,
    "editable": true
   },
   "outputs": [
    {
     "name": "stdout",
     "output_type": "stream",
     "text": [
      "target_sequence_length Tensor(\"target_sequence_length:0\", shape=(?,), dtype=int32)\n",
      "Tests Passed\n"
     ]
    }
   ],
   "source": [
    "def seq2seq_model(input_data, target_data, keep_prob, batch_size,\n",
    "                  source_sequence_length, target_sequence_length,\n",
    "                  max_target_sentence_length,\n",
    "                  source_vocab_size, target_vocab_size,\n",
    "                  enc_embedding_size, dec_embedding_size,\n",
    "                  rnn_size, num_layers, target_vocab_to_int):\n",
    "    \"\"\"\n",
    "    Build the Sequence-to-Sequence part of the neural network\n",
    "    :param input_data: Input placeholder\n",
    "    :param target_data: Target placeholder\n",
    "    :param keep_prob: Dropout keep probability placeholder\n",
    "    :param batch_size: Batch Size\n",
    "    :param source_sequence_length: Sequence Lengths of source sequences in the batch\n",
    "    :param target_sequence_length: Sequence Lengths of target sequences in the batch\n",
    "    :param source_vocab_size: Source vocabulary size\n",
    "    :param target_vocab_size: Target vocabulary size\n",
    "    :param enc_embedding_size: Decoder embedding size\n",
    "    :param dec_embedding_size: Encoder embedding size\n",
    "    :param rnn_size: RNN Size\n",
    "    :param num_layers: Number of layers\n",
    "    :param target_vocab_to_int: Dictionary to go from the target words to an id\n",
    "    :return: Tuple of (Training BasicDecoderOutput, Inference BasicDecoderOutput)\n",
    "    \"\"\"\n",
    "    # TODO: Implement Function\n",
    "    _, enc_state = encoding_layer(input_data, \n",
    "                                  rnn_size, \n",
    "                                  num_layers, \n",
    "                                  keep_prob, \n",
    "                                  source_sequence_length, \n",
    "                                  source_vocab_size, \n",
    "                                  enc_embedding_size)\n",
    "    \n",
    "    dec_input = process_decoder_input(target_data, target_vocab_to_int, batch_size)\n",
    "    \n",
    "    train_decoder, infer_decoder = decoding_layer( dec_input, \n",
    "                                                   enc_state,\n",
    "                                                   target_sequence_length, \n",
    "                                                   max_target_sentence_length,\n",
    "                                                   rnn_size,\n",
    "                                                   num_layers, \n",
    "                                                   target_vocab_to_int,\n",
    "                                                   target_vocab_size,\n",
    "                                                   batch_size, \n",
    "                                                   keep_prob, \n",
    "                                                   dec_embedding_size)\n",
    "        \n",
    "    return train_decoder, infer_decoder\n",
    "\n",
    "\n",
    "\"\"\"\n",
    "DON'T MODIFY ANYTHING IN THIS CELL THAT IS BELOW THIS LINE\n",
    "\"\"\"\n",
    "tests.test_seq2seq_model(seq2seq_model)"
   ]
  },
  {
   "cell_type": "markdown",
   "metadata": {
    "deletable": true,
    "editable": true
   },
   "source": [
    "## Neural Network Training\n",
    "### Hyperparameters\n",
    "Tune the following parameters:\n",
    "\n",
    "- Set `epochs` to the number of epochs.\n",
    "- Set `batch_size` to the batch size.\n",
    "- Set `rnn_size` to the size of the RNNs.\n",
    "- Set `num_layers` to the number of layers.\n",
    "- Set `encoding_embedding_size` to the size of the embedding for the encoder.\n",
    "- Set `decoding_embedding_size` to the size of the embedding for the decoder.\n",
    "- Set `learning_rate` to the learning rate.\n",
    "- Set `keep_probability` to the Dropout keep probability\n",
    "- Set `display_step` to state how many steps between each debug output statement"
   ]
  },
  {
   "cell_type": "code",
   "execution_count": 45,
   "metadata": {
    "collapsed": true,
    "deletable": true,
    "editable": true
   },
   "outputs": [],
   "source": [
    "# Number of Epochs\n",
    "epochs = 15\n",
    "# Batch Size\n",
    "batch_size = 256\n",
    "# RNN Size\n",
    "rnn_size = 200\n",
    "# Number of Layers\n",
    "num_layers = 3\n",
    "# Embedding Size\n",
    "encoding_embedding_size = 50\n",
    "decoding_embedding_size = 50\n",
    "# Learning Rate\n",
    "learning_rate = 0.001\n",
    "# Dropout Keep Probability\n",
    "keep_probability = 0.5\n",
    "display_step = 50"
   ]
  },
  {
   "cell_type": "markdown",
   "metadata": {
    "deletable": true,
    "editable": true
   },
   "source": [
    "### Build the Graph\n",
    "Build the graph using the neural network you implemented."
   ]
  },
  {
   "cell_type": "code",
   "execution_count": 46,
   "metadata": {
    "collapsed": false,
    "deletable": true,
    "editable": true
   },
   "outputs": [
    {
     "name": "stdout",
     "output_type": "stream",
     "text": [
      "target_sequence_length Tensor(\"target_sequence_length:0\", shape=(?,), dtype=int32)\n"
     ]
    }
   ],
   "source": [
    "\"\"\"\n",
    "DON'T MODIFY ANYTHING IN THIS CELL\n",
    "\"\"\"\n",
    "save_path = 'checkpoints/dev'\n",
    "(source_int_text, target_int_text), (source_vocab_to_int, target_vocab_to_int), _ = helper.load_preprocess()\n",
    "max_target_sentence_length = max([len(sentence) for sentence in source_int_text])\n",
    "\n",
    "train_graph = tf.Graph()\n",
    "with train_graph.as_default():\n",
    "    input_data, targets, lr, keep_prob, target_sequence_length, max_target_sequence_length, source_sequence_length = model_inputs()\n",
    "\n",
    "    #sequence_length = tf.placeholder_with_default(max_target_sentence_length, None, name='sequence_length')\n",
    "    input_shape = tf.shape(input_data)\n",
    "\n",
    "    train_logits, inference_logits = seq2seq_model(tf.reverse(input_data, [-1]),\n",
    "                                                   targets,\n",
    "                                                   keep_prob,\n",
    "                                                   batch_size,\n",
    "                                                   source_sequence_length,\n",
    "                                                   target_sequence_length,\n",
    "                                                   max_target_sequence_length,\n",
    "                                                   len(source_vocab_to_int),\n",
    "                                                   len(target_vocab_to_int),\n",
    "                                                   encoding_embedding_size,\n",
    "                                                   decoding_embedding_size,\n",
    "                                                   rnn_size,\n",
    "                                                   num_layers,\n",
    "                                                   target_vocab_to_int)\n",
    "\n",
    "\n",
    "    training_logits = tf.identity(train_logits.rnn_output, name='logits')\n",
    "    inference_logits = tf.identity(inference_logits.sample_id, name='predictions')\n",
    "\n",
    "    masks = tf.sequence_mask(target_sequence_length, max_target_sequence_length, dtype=tf.float32, name='masks')\n",
    "\n",
    "    with tf.name_scope(\"optimization\"):\n",
    "        # Loss function\n",
    "        cost = tf.contrib.seq2seq.sequence_loss(\n",
    "            training_logits,\n",
    "            targets,\n",
    "            masks)\n",
    "\n",
    "        # Optimizer\n",
    "        optimizer = tf.train.AdamOptimizer(lr)\n",
    "\n",
    "        # Gradient Clipping\n",
    "        gradients = optimizer.compute_gradients(cost)\n",
    "        capped_gradients = [(tf.clip_by_value(grad, -1., 1.), var) for grad, var in gradients if grad is not None]\n",
    "        train_op = optimizer.apply_gradients(capped_gradients)\n"
   ]
  },
  {
   "cell_type": "markdown",
   "metadata": {
    "deletable": true,
    "editable": true
   },
   "source": [
    "Batch and pad the source and target sequences"
   ]
  },
  {
   "cell_type": "code",
   "execution_count": 47,
   "metadata": {
    "collapsed": true,
    "deletable": true,
    "editable": true
   },
   "outputs": [],
   "source": [
    "\"\"\"\n",
    "DON'T MODIFY ANYTHING IN THIS CELL\n",
    "\"\"\"\n",
    "def pad_sentence_batch(sentence_batch, pad_int):\n",
    "    \"\"\"Pad sentences with <PAD> so that each sentence of a batch has the same length\"\"\"\n",
    "    max_sentence = max([len(sentence) for sentence in sentence_batch])\n",
    "    return [sentence + [pad_int] * (max_sentence - len(sentence)) for sentence in sentence_batch]\n",
    "\n",
    "\n",
    "def get_batches(sources, targets, batch_size, source_pad_int, target_pad_int):\n",
    "    \"\"\"Batch targets, sources, and the lengths of their sentences together\"\"\"\n",
    "    for batch_i in range(0, len(sources)//batch_size):\n",
    "        start_i = batch_i * batch_size\n",
    "\n",
    "        # Slice the right amount for the batch\n",
    "        sources_batch = sources[start_i:start_i + batch_size]\n",
    "        targets_batch = targets[start_i:start_i + batch_size]\n",
    "\n",
    "        # Pad\n",
    "        pad_sources_batch = np.array(pad_sentence_batch(sources_batch, source_pad_int))\n",
    "        pad_targets_batch = np.array(pad_sentence_batch(targets_batch, target_pad_int))\n",
    "\n",
    "        # Need the lengths for the _lengths parameters\n",
    "        pad_targets_lengths = []\n",
    "        for target in pad_targets_batch:\n",
    "            pad_targets_lengths.append(len(target))\n",
    "\n",
    "        pad_source_lengths = []\n",
    "        for source in pad_sources_batch:\n",
    "            pad_source_lengths.append(len(source))\n",
    "\n",
    "        yield pad_sources_batch, pad_targets_batch, pad_source_lengths, pad_targets_lengths\n"
   ]
  },
  {
   "cell_type": "markdown",
   "metadata": {
    "deletable": true,
    "editable": true
   },
   "source": [
    "### Train\n",
    "Train the neural network on the preprocessed data. If you have a hard time getting a good loss, check the forms to see if anyone is having the same problem."
   ]
  },
  {
   "cell_type": "code",
   "execution_count": 48,
   "metadata": {
    "collapsed": false,
    "deletable": true,
    "editable": true,
    "scrolled": false
   },
   "outputs": [
    {
     "name": "stdout",
     "output_type": "stream",
     "text": [
      "Epoch   0 Batch   50/538 - Train Accuracy: 0.2811, Validation Accuracy: 0.3471, Loss: 3.2984\n",
      "Epoch   0 Batch  100/538 - Train Accuracy: 0.3215, Validation Accuracy: 0.3826, Loss: 3.0018\n",
      "Epoch   0 Batch  150/538 - Train Accuracy: 0.3699, Validation Accuracy: 0.4299, Loss: 2.8211\n",
      "Epoch   0 Batch  200/538 - Train Accuracy: 0.4027, Validation Accuracy: 0.4622, Loss: 2.6850\n",
      "Epoch   0 Batch  250/538 - Train Accuracy: 0.4092, Validation Accuracy: 0.4748, Loss: 2.5648\n",
      "Epoch   0 Batch  300/538 - Train Accuracy: 0.4507, Validation Accuracy: 0.4819, Loss: 2.3070\n",
      "Epoch   0 Batch  350/538 - Train Accuracy: 0.4570, Validation Accuracy: 0.4996, Loss: 2.2639\n",
      "Epoch   0 Batch  400/538 - Train Accuracy: 0.4788, Validation Accuracy: 0.5126, Loss: 2.0264\n",
      "Epoch   0 Batch  450/538 - Train Accuracy: 0.5121, Validation Accuracy: 0.5311, Loss: 1.8952\n",
      "Epoch   0 Batch  500/538 - Train Accuracy: 0.5076, Validation Accuracy: 0.5215, Loss: 1.6864\n",
      "Epoch   1 Batch   50/538 - Train Accuracy: 0.4846, Validation Accuracy: 0.5318, Loss: 1.5399\n",
      "Epoch   1 Batch  100/538 - Train Accuracy: 0.4863, Validation Accuracy: 0.5249, Loss: 1.4149\n",
      "Epoch   1 Batch  150/538 - Train Accuracy: 0.5082, Validation Accuracy: 0.5304, Loss: 1.2457\n",
      "Epoch   1 Batch  200/538 - Train Accuracy: 0.5232, Validation Accuracy: 0.5431, Loss: 1.1217\n",
      "Epoch   1 Batch  250/538 - Train Accuracy: 0.4920, Validation Accuracy: 0.5382, Loss: 1.0340\n",
      "Epoch   1 Batch  300/538 - Train Accuracy: 0.5231, Validation Accuracy: 0.5281, Loss: 0.9529\n",
      "Epoch   1 Batch  350/538 - Train Accuracy: 0.5314, Validation Accuracy: 0.5385, Loss: 0.9269\n",
      "Epoch   1 Batch  400/538 - Train Accuracy: 0.5296, Validation Accuracy: 0.5369, Loss: 0.8692\n",
      "Epoch   1 Batch  450/538 - Train Accuracy: 0.5246, Validation Accuracy: 0.5423, Loss: 0.8678\n",
      "Epoch   1 Batch  500/538 - Train Accuracy: 0.5502, Validation Accuracy: 0.5408, Loss: 0.7654\n",
      "Epoch   2 Batch   50/538 - Train Accuracy: 0.5607, Validation Accuracy: 0.5852, Loss: 0.7909\n",
      "Epoch   2 Batch  100/538 - Train Accuracy: 0.5533, Validation Accuracy: 0.5795, Loss: 0.7755\n",
      "Epoch   2 Batch  150/538 - Train Accuracy: 0.5848, Validation Accuracy: 0.5955, Loss: 0.7628\n",
      "Epoch   2 Batch  200/538 - Train Accuracy: 0.5842, Validation Accuracy: 0.5900, Loss: 0.7241\n",
      "Epoch   2 Batch  250/538 - Train Accuracy: 0.5668, Validation Accuracy: 0.5907, Loss: 0.7230\n",
      "Epoch   2 Batch  300/538 - Train Accuracy: 0.5887, Validation Accuracy: 0.5927, Loss: 0.7028\n",
      "Epoch   2 Batch  350/538 - Train Accuracy: 0.6006, Validation Accuracy: 0.6016, Loss: 0.6889\n",
      "Epoch   2 Batch  400/538 - Train Accuracy: 0.5917, Validation Accuracy: 0.6000, Loss: 0.6654\n",
      "Epoch   2 Batch  450/538 - Train Accuracy: 0.6131, Validation Accuracy: 0.5946, Loss: 0.6695\n",
      "Epoch   2 Batch  500/538 - Train Accuracy: 0.6113, Validation Accuracy: 0.6001, Loss: 0.6028\n",
      "Epoch   3 Batch   50/538 - Train Accuracy: 0.5934, Validation Accuracy: 0.6081, Loss: 0.6248\n",
      "Epoch   3 Batch  100/538 - Train Accuracy: 0.5984, Validation Accuracy: 0.6051, Loss: 0.6018\n",
      "Epoch   3 Batch  150/538 - Train Accuracy: 0.6160, Validation Accuracy: 0.5987, Loss: 0.5944\n",
      "Epoch   3 Batch  200/538 - Train Accuracy: 0.6211, Validation Accuracy: 0.6142, Loss: 0.5653\n",
      "Epoch   3 Batch  250/538 - Train Accuracy: 0.6119, Validation Accuracy: 0.6168, Loss: 0.5569\n",
      "Epoch   3 Batch  300/538 - Train Accuracy: 0.6252, Validation Accuracy: 0.6161, Loss: 0.5360\n",
      "Epoch   3 Batch  350/538 - Train Accuracy: 0.6081, Validation Accuracy: 0.5895, Loss: 0.5272\n",
      "Epoch   3 Batch  400/538 - Train Accuracy: 0.6129, Validation Accuracy: 0.6033, Loss: 0.5081\n",
      "Epoch   3 Batch  450/538 - Train Accuracy: 0.6445, Validation Accuracy: 0.6145, Loss: 0.5139\n",
      "Epoch   3 Batch  500/538 - Train Accuracy: 0.6703, Validation Accuracy: 0.6415, Loss: 0.4432\n",
      "Epoch   4 Batch   50/538 - Train Accuracy: 0.6508, Validation Accuracy: 0.6445, Loss: 0.4687\n",
      "Epoch   4 Batch  100/538 - Train Accuracy: 0.6592, Validation Accuracy: 0.6532, Loss: 0.4462\n",
      "Epoch   4 Batch  150/538 - Train Accuracy: 0.6822, Validation Accuracy: 0.6635, Loss: 0.4410\n",
      "Epoch   4 Batch  200/538 - Train Accuracy: 0.6750, Validation Accuracy: 0.6751, Loss: 0.4259\n",
      "Epoch   4 Batch  250/538 - Train Accuracy: 0.6973, Validation Accuracy: 0.6705, Loss: 0.4299\n",
      "Epoch   4 Batch  300/538 - Train Accuracy: 0.6975, Validation Accuracy: 0.6793, Loss: 0.4088\n",
      "Epoch   4 Batch  350/538 - Train Accuracy: 0.6996, Validation Accuracy: 0.6845, Loss: 0.4178\n",
      "Epoch   4 Batch  400/538 - Train Accuracy: 0.7132, Validation Accuracy: 0.6676, Loss: 0.4043\n",
      "Epoch   4 Batch  450/538 - Train Accuracy: 0.7104, Validation Accuracy: 0.6909, Loss: 0.4035\n",
      "Epoch   4 Batch  500/538 - Train Accuracy: 0.7386, Validation Accuracy: 0.6838, Loss: 0.3500\n",
      "Epoch   5 Batch   50/538 - Train Accuracy: 0.7131, Validation Accuracy: 0.6985, Loss: 0.3821\n",
      "Epoch   5 Batch  100/538 - Train Accuracy: 0.7049, Validation Accuracy: 0.6758, Loss: 0.3666\n",
      "Epoch   5 Batch  150/538 - Train Accuracy: 0.7213, Validation Accuracy: 0.7010, Loss: 0.3654\n",
      "Epoch   5 Batch  200/538 - Train Accuracy: 0.7127, Validation Accuracy: 0.6914, Loss: 0.3532\n",
      "Epoch   5 Batch  250/538 - Train Accuracy: 0.7408, Validation Accuracy: 0.7056, Loss: 0.3594\n",
      "Epoch   5 Batch  300/538 - Train Accuracy: 0.7210, Validation Accuracy: 0.7013, Loss: 0.3349\n",
      "Epoch   5 Batch  350/538 - Train Accuracy: 0.7318, Validation Accuracy: 0.7058, Loss: 0.3440\n",
      "Epoch   5 Batch  400/538 - Train Accuracy: 0.7630, Validation Accuracy: 0.7132, Loss: 0.3340\n",
      "Epoch   5 Batch  450/538 - Train Accuracy: 0.7340, Validation Accuracy: 0.7157, Loss: 0.3391\n",
      "Epoch   5 Batch  500/538 - Train Accuracy: 0.7557, Validation Accuracy: 0.7228, Loss: 0.2879\n",
      "Epoch   6 Batch   50/538 - Train Accuracy: 0.7564, Validation Accuracy: 0.7449, Loss: 0.3103\n",
      "Epoch   6 Batch  100/538 - Train Accuracy: 0.7715, Validation Accuracy: 0.7203, Loss: 0.2947\n",
      "Epoch   6 Batch  150/538 - Train Accuracy: 0.7715, Validation Accuracy: 0.7363, Loss: 0.2948\n",
      "Epoch   6 Batch  200/538 - Train Accuracy: 0.7695, Validation Accuracy: 0.7420, Loss: 0.2798\n",
      "Epoch   6 Batch  250/538 - Train Accuracy: 0.7611, Validation Accuracy: 0.7532, Loss: 0.2858\n",
      "Epoch   6 Batch  300/538 - Train Accuracy: 0.7608, Validation Accuracy: 0.7335, Loss: 0.2750\n",
      "Epoch   6 Batch  350/538 - Train Accuracy: 0.7803, Validation Accuracy: 0.7429, Loss: 0.2692\n",
      "Epoch   6 Batch  400/538 - Train Accuracy: 0.7667, Validation Accuracy: 0.7317, Loss: 0.2828\n",
      "Epoch   6 Batch  450/538 - Train Accuracy: 0.7814, Validation Accuracy: 0.7816, Loss: 0.2771\n",
      "Epoch   6 Batch  500/538 - Train Accuracy: 0.8093, Validation Accuracy: 0.7566, Loss: 0.2342\n",
      "Epoch   7 Batch   50/538 - Train Accuracy: 0.7676, Validation Accuracy: 0.7940, Loss: 0.2445\n",
      "Epoch   7 Batch  100/538 - Train Accuracy: 0.7996, Validation Accuracy: 0.7596, Loss: 0.2356\n",
      "Epoch   7 Batch  150/538 - Train Accuracy: 0.7682, Validation Accuracy: 0.7482, Loss: 0.2419\n",
      "Epoch   7 Batch  200/538 - Train Accuracy: 0.7943, Validation Accuracy: 0.7654, Loss: 0.2336\n",
      "Epoch   7 Batch  250/538 - Train Accuracy: 0.7652, Validation Accuracy: 0.7734, Loss: 0.2412\n",
      "Epoch   7 Batch  300/538 - Train Accuracy: 0.7898, Validation Accuracy: 0.7511, Loss: 0.2295\n",
      "Epoch   7 Batch  350/538 - Train Accuracy: 0.8119, Validation Accuracy: 0.7827, Loss: 0.2217\n",
      "Epoch   7 Batch  400/538 - Train Accuracy: 0.7984, Validation Accuracy: 0.7960, Loss: 0.2181\n",
      "Epoch   7 Batch  450/538 - Train Accuracy: 0.8017, Validation Accuracy: 0.7955, Loss: 0.2217\n",
      "Epoch   7 Batch  500/538 - Train Accuracy: 0.8430, Validation Accuracy: 0.7924, Loss: 0.1786\n",
      "Epoch   8 Batch   50/538 - Train Accuracy: 0.8086, Validation Accuracy: 0.8228, Loss: 0.1873\n",
      "Epoch   8 Batch  100/538 - Train Accuracy: 0.8375, Validation Accuracy: 0.7983, Loss: 0.1865\n",
      "Epoch   8 Batch  150/538 - Train Accuracy: 0.8059, Validation Accuracy: 0.7852, Loss: 0.1868\n",
      "Epoch   8 Batch  200/538 - Train Accuracy: 0.8182, Validation Accuracy: 0.7967, Loss: 0.1802\n",
      "Epoch   8 Batch  250/538 - Train Accuracy: 0.7980, Validation Accuracy: 0.7828, Loss: 0.1809\n",
      "Epoch   8 Batch  300/538 - Train Accuracy: 0.8099, Validation Accuracy: 0.7979, Loss: 0.1836\n",
      "Epoch   8 Batch  350/538 - Train Accuracy: 0.8311, Validation Accuracy: 0.8089, Loss: 0.1710\n",
      "Epoch   8 Batch  400/538 - Train Accuracy: 0.8322, Validation Accuracy: 0.8166, Loss: 0.1626\n",
      "Epoch   8 Batch  450/538 - Train Accuracy: 0.8268, Validation Accuracy: 0.8107, Loss: 0.1820\n",
      "Epoch   8 Batch  500/538 - Train Accuracy: 0.8684, Validation Accuracy: 0.8097, Loss: 0.1413\n",
      "Epoch   9 Batch   50/538 - Train Accuracy: 0.8373, Validation Accuracy: 0.8242, Loss: 0.1548\n",
      "Epoch   9 Batch  100/538 - Train Accuracy: 0.8635, Validation Accuracy: 0.8171, Loss: 0.1434\n",
      "Epoch   9 Batch  150/538 - Train Accuracy: 0.8385, Validation Accuracy: 0.8203, Loss: 0.1494\n",
      "Epoch   9 Batch  200/538 - Train Accuracy: 0.8373, Validation Accuracy: 0.8287, Loss: 0.1473\n",
      "Epoch   9 Batch  250/538 - Train Accuracy: 0.8363, Validation Accuracy: 0.8178, Loss: 0.1474\n",
      "Epoch   9 Batch  300/538 - Train Accuracy: 0.8307, Validation Accuracy: 0.8366, Loss: 0.1426\n",
      "Epoch   9 Batch  350/538 - Train Accuracy: 0.8605, Validation Accuracy: 0.8313, Loss: 0.1358\n",
      "Epoch   9 Batch  400/538 - Train Accuracy: 0.8707, Validation Accuracy: 0.8571, Loss: 0.1367\n",
      "Epoch   9 Batch  450/538 - Train Accuracy: 0.8545, Validation Accuracy: 0.8675, Loss: 0.1526\n",
      "Epoch   9 Batch  500/538 - Train Accuracy: 0.8967, Validation Accuracy: 0.8640, Loss: 0.1147\n",
      "Epoch  10 Batch   50/538 - Train Accuracy: 0.8814, Validation Accuracy: 0.8585, Loss: 0.1226\n",
      "Epoch  10 Batch  100/538 - Train Accuracy: 0.9027, Validation Accuracy: 0.8725, Loss: 0.1187\n",
      "Epoch  10 Batch  150/538 - Train Accuracy: 0.8455, Validation Accuracy: 0.8683, Loss: 0.1236\n",
      "Epoch  10 Batch  200/538 - Train Accuracy: 0.8854, Validation Accuracy: 0.8920, Loss: 0.1203\n",
      "Epoch  10 Batch  250/538 - Train Accuracy: 0.8789, Validation Accuracy: 0.8793, Loss: 0.1153\n",
      "Epoch  10 Batch  300/538 - Train Accuracy: 0.8748, Validation Accuracy: 0.8778, Loss: 0.1221\n",
      "Epoch  10 Batch  350/538 - Train Accuracy: 0.8895, Validation Accuracy: 0.8706, Loss: 0.1148\n",
      "Epoch  10 Batch  400/538 - Train Accuracy: 0.8804, Validation Accuracy: 0.8778, Loss: 0.1128\n",
      "Epoch  10 Batch  450/538 - Train Accuracy: 0.8683, Validation Accuracy: 0.8796, Loss: 0.1253\n",
      "Epoch  10 Batch  500/538 - Train Accuracy: 0.9146, Validation Accuracy: 0.8849, Loss: 0.0918\n",
      "Epoch  11 Batch   50/538 - Train Accuracy: 0.8885, Validation Accuracy: 0.8880, Loss: 0.0989\n",
      "Epoch  11 Batch  100/538 - Train Accuracy: 0.9068, Validation Accuracy: 0.8922, Loss: 0.0973\n",
      "Epoch  11 Batch  150/538 - Train Accuracy: 0.8920, Validation Accuracy: 0.8848, Loss: 0.1036\n",
      "Epoch  11 Batch  200/538 - Train Accuracy: 0.9016, Validation Accuracy: 0.8954, Loss: 0.0969\n",
      "Epoch  11 Batch  250/538 - Train Accuracy: 0.8961, Validation Accuracy: 0.8839, Loss: 0.1017\n",
      "Epoch  11 Batch  300/538 - Train Accuracy: 0.8860, Validation Accuracy: 0.8956, Loss: 0.1000\n",
      "Epoch  11 Batch  350/538 - Train Accuracy: 0.9120, Validation Accuracy: 0.8814, Loss: 0.1002\n",
      "Epoch  11 Batch  400/538 - Train Accuracy: 0.9098, Validation Accuracy: 0.9015, Loss: 0.0941\n",
      "Epoch  11 Batch  450/538 - Train Accuracy: 0.8958, Validation Accuracy: 0.9023, Loss: 0.1077\n",
      "Epoch  11 Batch  500/538 - Train Accuracy: 0.9292, Validation Accuracy: 0.8928, Loss: 0.0729\n",
      "Epoch  12 Batch   50/538 - Train Accuracy: 0.9066, Validation Accuracy: 0.8974, Loss: 0.0868\n",
      "Epoch  12 Batch  100/538 - Train Accuracy: 0.9225, Validation Accuracy: 0.8999, Loss: 0.0802\n",
      "Epoch  12 Batch  150/538 - Train Accuracy: 0.9141, Validation Accuracy: 0.9023, Loss: 0.0861\n",
      "Epoch  12 Batch  200/538 - Train Accuracy: 0.9074, Validation Accuracy: 0.8983, Loss: 0.0790\n",
      "Epoch  12 Batch  250/538 - Train Accuracy: 0.9111, Validation Accuracy: 0.8910, Loss: 0.0911\n",
      "Epoch  12 Batch  300/538 - Train Accuracy: 0.8934, Validation Accuracy: 0.8984, Loss: 0.0859\n",
      "Epoch  12 Batch  350/538 - Train Accuracy: 0.9276, Validation Accuracy: 0.9055, Loss: 0.0780\n",
      "Epoch  12 Batch  400/538 - Train Accuracy: 0.9217, Validation Accuracy: 0.9025, Loss: 0.0838\n",
      "Epoch  12 Batch  450/538 - Train Accuracy: 0.8966, Validation Accuracy: 0.8954, Loss: 0.0890\n",
      "Epoch  12 Batch  500/538 - Train Accuracy: 0.9283, Validation Accuracy: 0.9066, Loss: 0.0646\n",
      "Epoch  13 Batch   50/538 - Train Accuracy: 0.9107, Validation Accuracy: 0.9080, Loss: 0.0751\n",
      "Epoch  13 Batch  100/538 - Train Accuracy: 0.9213, Validation Accuracy: 0.9112, Loss: 0.0700\n",
      "Epoch  13 Batch  150/538 - Train Accuracy: 0.9193, Validation Accuracy: 0.9144, Loss: 0.0701\n",
      "Epoch  13 Batch  200/538 - Train Accuracy: 0.9205, Validation Accuracy: 0.9150, Loss: 0.0704\n",
      "Epoch  13 Batch  250/538 - Train Accuracy: 0.9189, Validation Accuracy: 0.9071, Loss: 0.0718\n",
      "Epoch  13 Batch  300/538 - Train Accuracy: 0.9059, Validation Accuracy: 0.9174, Loss: 0.0790\n",
      "Epoch  13 Batch  350/538 - Train Accuracy: 0.9388, Validation Accuracy: 0.9281, Loss: 0.0689\n",
      "Epoch  13 Batch  400/538 - Train Accuracy: 0.9308, Validation Accuracy: 0.9228, Loss: 0.0664\n",
      "Epoch  13 Batch  450/538 - Train Accuracy: 0.9100, Validation Accuracy: 0.9203, Loss: 0.0832\n",
      "Epoch  13 Batch  500/538 - Train Accuracy: 0.9402, Validation Accuracy: 0.9201, Loss: 0.0498\n",
      "Epoch  14 Batch   50/538 - Train Accuracy: 0.9316, Validation Accuracy: 0.9134, Loss: 0.0645\n",
      "Epoch  14 Batch  100/538 - Train Accuracy: 0.9242, Validation Accuracy: 0.9148, Loss: 0.0560\n",
      "Epoch  14 Batch  150/538 - Train Accuracy: 0.9256, Validation Accuracy: 0.9194, Loss: 0.0644\n",
      "Epoch  14 Batch  200/538 - Train Accuracy: 0.9316, Validation Accuracy: 0.9226, Loss: 0.0580\n",
      "Epoch  14 Batch  250/538 - Train Accuracy: 0.9248, Validation Accuracy: 0.9176, Loss: 0.0623\n",
      "Epoch  14 Batch  300/538 - Train Accuracy: 0.9087, Validation Accuracy: 0.9276, Loss: 0.0707\n",
      "Epoch  14 Batch  350/538 - Train Accuracy: 0.9392, Validation Accuracy: 0.9190, Loss: 0.0649\n",
      "Epoch  14 Batch  400/538 - Train Accuracy: 0.9317, Validation Accuracy: 0.9169, Loss: 0.0639\n",
      "Epoch  14 Batch  450/538 - Train Accuracy: 0.9152, Validation Accuracy: 0.9237, Loss: 0.0767\n",
      "Epoch  14 Batch  500/538 - Train Accuracy: 0.9439, Validation Accuracy: 0.9208, Loss: 0.0481\n",
      "Model Trained and Saved\n"
     ]
    }
   ],
   "source": [
    "\"\"\"\n",
    "DON'T MODIFY ANYTHING IN THIS CELL\n",
    "\"\"\"\n",
    "def get_accuracy(target, logits):\n",
    "    \"\"\"\n",
    "    Calculate accuracy\n",
    "    \"\"\"\n",
    "    max_seq = max(target.shape[1], logits.shape[1])\n",
    "    if max_seq - target.shape[1]:\n",
    "        target = np.pad(\n",
    "            target,\n",
    "            [(0,0),(0,max_seq - target.shape[1])],\n",
    "            'constant')\n",
    "    if max_seq - logits.shape[1]:\n",
    "        logits = np.pad(\n",
    "            logits,\n",
    "            [(0,0),(0,max_seq - logits.shape[1])],\n",
    "            'constant')\n",
    "\n",
    "    return np.mean(np.equal(target, logits))\n",
    "\n",
    "# Split data to training and validation sets\n",
    "train_source = source_int_text[batch_size:]\n",
    "train_target = target_int_text[batch_size:]\n",
    "valid_source = source_int_text[:batch_size]\n",
    "valid_target = target_int_text[:batch_size]\n",
    "\n",
    "(valid_sources_batch, valid_targets_batch, valid_sources_lengths, valid_targets_lengths ) = next(get_batches(valid_source,\n",
    "                                                                                                             valid_target,\n",
    "                                                                                                             batch_size,\n",
    "                                                                                                             source_vocab_to_int['<PAD>'],\n",
    "                                                                                                             target_vocab_to_int['<PAD>']))                                                                                                  \n",
    "\n",
    "with tf.Session(graph=train_graph) as sess:\n",
    "    sess.run(tf.global_variables_initializer())\n",
    "\n",
    "    for epoch_i in range(epochs):\n",
    "        for batch_i, (source_batch, target_batch, sources_lengths, targets_lengths) in enumerate(\n",
    "                get_batches(train_source, train_target, batch_size,\n",
    "                            source_vocab_to_int['<PAD>'],\n",
    "                            target_vocab_to_int['<PAD>'])):\n",
    "\n",
    "            _, loss = sess.run(\n",
    "                [train_op, cost],\n",
    "                {input_data: source_batch,\n",
    "                 targets: target_batch,\n",
    "                 lr: learning_rate,\n",
    "                 target_sequence_length: targets_lengths,\n",
    "                 source_sequence_length: sources_lengths,\n",
    "                 keep_prob: keep_probability})\n",
    "            \n",
    "            #print('Epoch {:>3} Batch {:>4} - Train Loss: {:>6.4f}'.format(epoch_i,batch_i, loss ))\n",
    "\n",
    "            if batch_i % display_step == 0 and batch_i > 0:\n",
    "\n",
    "\n",
    "                batch_train_logits = sess.run(\n",
    "                    inference_logits,\n",
    "                    {input_data: source_batch,\n",
    "                     source_sequence_length: sources_lengths,\n",
    "                     target_sequence_length: targets_lengths,\n",
    "                     keep_prob: 1.0})\n",
    "\n",
    "\n",
    "                batch_valid_logits = sess.run(\n",
    "                    inference_logits,\n",
    "                    {input_data: valid_sources_batch,\n",
    "                     source_sequence_length: valid_sources_lengths,\n",
    "                     target_sequence_length: valid_targets_lengths,\n",
    "                     keep_prob: 1.0})\n",
    "\n",
    "                train_acc = get_accuracy(target_batch, batch_train_logits)\n",
    "\n",
    "                valid_acc = get_accuracy(valid_targets_batch, batch_valid_logits)\n",
    "\n",
    "                print('Epoch {:>3} Batch {:>4}/{} - Train Accuracy: {:>6.4f}, Validation Accuracy: {:>6.4f}, Loss: {:>6.4f}'\n",
    "                      .format(epoch_i, batch_i, len(source_int_text) // batch_size, train_acc, valid_acc, loss))\n",
    "\n",
    "    # Save Model\n",
    "    saver = tf.train.Saver()\n",
    "    saver.save(sess, save_path)\n",
    "    print('Model Trained and Saved')"
   ]
  },
  {
   "cell_type": "markdown",
   "metadata": {
    "deletable": true,
    "editable": true
   },
   "source": [
    "### Save Parameters\n",
    "Save the `batch_size` and `save_path` parameters for inference."
   ]
  },
  {
   "cell_type": "code",
   "execution_count": 49,
   "metadata": {
    "collapsed": true,
    "deletable": true,
    "editable": true
   },
   "outputs": [],
   "source": [
    "\"\"\"\n",
    "DON'T MODIFY ANYTHING IN THIS CELL\n",
    "\"\"\"\n",
    "# Save parameters for checkpoint\n",
    "helper.save_params(save_path)"
   ]
  },
  {
   "cell_type": "markdown",
   "metadata": {
    "deletable": true,
    "editable": true
   },
   "source": [
    "# Checkpoint"
   ]
  },
  {
   "cell_type": "code",
   "execution_count": 50,
   "metadata": {
    "collapsed": true,
    "deletable": true,
    "editable": true
   },
   "outputs": [],
   "source": [
    "\"\"\"\n",
    "DON'T MODIFY ANYTHING IN THIS CELL\n",
    "\"\"\"\n",
    "import tensorflow as tf\n",
    "import numpy as np\n",
    "import helper\n",
    "import problem_unittests as tests\n",
    "\n",
    "_, (source_vocab_to_int, target_vocab_to_int), (source_int_to_vocab, target_int_to_vocab) = helper.load_preprocess()\n",
    "load_path = helper.load_params()"
   ]
  },
  {
   "cell_type": "markdown",
   "metadata": {
    "deletable": true,
    "editable": true
   },
   "source": [
    "## Sentence to Sequence\n",
    "To feed a sentence into the model for translation, you first need to preprocess it.  Implement the function `sentence_to_seq()` to preprocess new sentences.\n",
    "\n",
    "- Convert the sentence to lowercase\n",
    "- Convert words into ids using `vocab_to_int`\n",
    " - Convert words not in the vocabulary, to the `<UNK>` word id."
   ]
  },
  {
   "cell_type": "code",
   "execution_count": 51,
   "metadata": {
    "collapsed": false,
    "deletable": true,
    "editable": true
   },
   "outputs": [
    {
     "name": "stdout",
     "output_type": "stream",
     "text": [
      "Tests Passed\n"
     ]
    }
   ],
   "source": [
    "def sentence_to_seq(sentence, vocab_to_int):\n",
    "    \"\"\"\n",
    "    Convert a sentence to a sequence of ids\n",
    "    :param sentence: String\n",
    "    :param vocab_to_int: Dictionary to go from the words to an id\n",
    "    :return: List of word ids\n",
    "    \"\"\"\n",
    "    # TODO: Implement Function\n",
    "    sentence = sentence.lower()\n",
    "    \n",
    "    out = []\n",
    "    for w in sentence.split():\n",
    "        if w in vocab_to_int.keys():\n",
    "            out.append(vocab_to_int[w])\n",
    "        else:\n",
    "            out.append(vocab_to_int[\"<UNK>\"])\n",
    "    return out\n",
    "\n",
    "\n",
    "\"\"\"\n",
    "DON'T MODIFY ANYTHING IN THIS CELL THAT IS BELOW THIS LINE\n",
    "\"\"\"\n",
    "tests.test_sentence_to_seq(sentence_to_seq)"
   ]
  },
  {
   "cell_type": "markdown",
   "metadata": {
    "deletable": true,
    "editable": true
   },
   "source": [
    "## Translate\n",
    "This will translate `translate_sentence` from English to French."
   ]
  },
  {
   "cell_type": "code",
   "execution_count": 61,
   "metadata": {
    "collapsed": false,
    "deletable": true,
    "editable": true
   },
   "outputs": [
    {
     "name": "stdout",
     "output_type": "stream",
     "text": [
      "INFO:tensorflow:Restoring parameters from checkpoints/dev\n",
      "Input\n",
      "  Word Ids:      [174, 184, 88, 131, 84, 120, 64, 152, 184, 178, 222, 210, 2]\n",
      "  English Words: ['paris', 'is', 'relaxing', 'during', 'december', ',', 'but', 'it', 'is', 'usually', 'hot', 'in', '<UNK>']\n",
      "\n",
      "Prediction\n",
      "  Word Ids:      [238, 47, 186, 124, 227, 97, 131, 209, 109, 47, 345, 17, 227, 232, 38, 1]\n",
      "  French Words: paris est relaxant parfois en décembre , mais il est généralement chaud en août . <EOS>\n"
     ]
    }
   ],
   "source": [
    "translate_sentence = 'he saw a old yellow truck .'\n",
    "translate_sentence = 'paris is relaxing during december , but it is usually hot in august.'\n",
    "\n",
    "\n",
    "\n",
    "\"\"\"\n",
    "DON'T MODIFY ANYTHING IN THIS CELL\n",
    "\"\"\"\n",
    "translate_sentence = sentence_to_seq(translate_sentence, source_vocab_to_int)\n",
    "\n",
    "loaded_graph = tf.Graph()\n",
    "with tf.Session(graph=loaded_graph) as sess:\n",
    "    # Load saved model\n",
    "    loader = tf.train.import_meta_graph(load_path + '.meta')\n",
    "    loader.restore(sess, load_path)\n",
    "\n",
    "    input_data = loaded_graph.get_tensor_by_name('input:0')\n",
    "    logits = loaded_graph.get_tensor_by_name('predictions:0')\n",
    "    target_sequence_length = loaded_graph.get_tensor_by_name('target_sequence_length:0')\n",
    "    source_sequence_length = loaded_graph.get_tensor_by_name('source_sequence_length:0')\n",
    "    keep_prob = loaded_graph.get_tensor_by_name('keep_prob:0')\n",
    "\n",
    "    translate_logits = sess.run(logits, {input_data: [translate_sentence]*batch_size,\n",
    "                                         target_sequence_length: [len(translate_sentence)*2]*batch_size,\n",
    "                                         source_sequence_length: [len(translate_sentence)]*batch_size,\n",
    "                                         keep_prob: 1.0})[0]\n",
    "\n",
    "print('Input')\n",
    "print('  Word Ids:      {}'.format([i for i in translate_sentence]))\n",
    "print('  English Words: {}'.format([source_int_to_vocab[i] for i in translate_sentence]))\n",
    "\n",
    "print('\\nPrediction')\n",
    "print('  Word Ids:      {}'.format([i for i in translate_logits]))\n",
    "print('  French Words: {}'.format(\" \".join([target_int_to_vocab[i] for i in translate_logits])))\n"
   ]
  },
  {
   "cell_type": "markdown",
   "metadata": {
    "deletable": true,
    "editable": true
   },
   "source": [
    "## Imperfect Translation\n",
    "You might notice that some sentences translate better than others.  Since the dataset you're using only has a vocabulary of 227 English words of the thousands that you use, you're only going to see good results using these words.  For this project, you don't need a perfect translation. However, if you want to create a better translation model, you'll need better data.\n",
    "\n",
    "You can train on the [WMT10 French-English corpus](http://www.statmt.org/wmt10/training-giga-fren.tar).  This dataset has more vocabulary and richer in topics discussed.  However, this will take you days to train, so make sure you've a GPU and the neural network is performing well on dataset we provided.  Just make sure you play with the WMT10 corpus after you've submitted this project.\n",
    "## Submitting This Project\n",
    "When submitting this project, make sure to run all the cells before saving the notebook. Save the notebook file as \"dlnd_language_translation.ipynb\" and save it as a HTML file under \"File\" -> \"Download as\". Include the \"helper.py\" and \"problem_unittests.py\" files in your submission."
   ]
  },
  {
   "cell_type": "code",
   "execution_count": null,
   "metadata": {
    "collapsed": true,
    "deletable": true,
    "editable": true
   },
   "outputs": [],
   "source": []
  }
 ],
 "metadata": {
  "anaconda-cloud": {},
  "kernelspec": {
   "display_name": "Python 3",
   "language": "python",
   "name": "python3"
  },
  "language_info": {
   "codemirror_mode": {
    "name": "ipython",
    "version": 3
   },
   "file_extension": ".py",
   "mimetype": "text/x-python",
   "name": "python",
   "nbconvert_exporter": "python",
   "pygments_lexer": "ipython3",
   "version": "3.5.2"
  },
  "widgets": {
   "state": {},
   "version": "1.1.2"
  }
 },
 "nbformat": 4,
 "nbformat_minor": 1
}
